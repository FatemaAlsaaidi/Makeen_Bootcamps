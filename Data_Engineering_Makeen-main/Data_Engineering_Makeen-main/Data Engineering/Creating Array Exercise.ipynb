{
 "cells": [
  {
   "cell_type": "code",
   "execution_count": 1,
   "id": "22e27f36",
   "metadata": {},
   "outputs": [],
   "source": [
    "import numpy as np #Adding numpy lib "
   ]
  },
  {
   "cell_type": "markdown",
   "id": "fd2a656f",
   "metadata": {},
   "source": [
    "### 1. Creating a 1D numpy array with the integers from 0 to 9"
   ]
  },
  {
   "cell_type": "code",
   "execution_count": 2,
   "id": "2e6a6cc2",
   "metadata": {},
   "outputs": [],
   "source": [
    "l1=[0,1,2,3,4,5,6,7,8,9]"
   ]
  },
  {
   "cell_type": "code",
   "execution_count": 3,
   "id": "3ecb1e9c",
   "metadata": {},
   "outputs": [
    {
     "data": {
      "text/plain": [
       "array([0, 1, 2, 3, 4, 5, 6, 7, 8, 9])"
      ]
     },
     "execution_count": 3,
     "metadata": {},
     "output_type": "execute_result"
    }
   ],
   "source": [
    "np.array(l1)"
   ]
  },
  {
   "cell_type": "markdown",
   "id": "e40a055e",
   "metadata": {},
   "source": [
    "   ###### Other soluation"
   ]
  },
  {
   "cell_type": "code",
   "execution_count": 5,
   "id": "d1a8ad86",
   "metadata": {},
   "outputs": [
    {
     "data": {
      "text/plain": [
       "array([0, 1, 2, 3, 4, 5, 6, 7, 8, 9])"
      ]
     },
     "execution_count": 5,
     "metadata": {},
     "output_type": "execute_result"
    }
   ],
   "source": [
    "np.arange(0,10)"
   ]
  },
  {
   "cell_type": "markdown",
   "id": "4219ee23",
   "metadata": {},
   "source": [
    "### 2. Create a 2D numpy array with the shape (3,3) and fill it with zeros"
   ]
  },
  {
   "cell_type": "code",
   "execution_count": 6,
   "id": "5c45c773",
   "metadata": {},
   "outputs": [
    {
     "data": {
      "text/plain": [
       "array([[0., 0., 0.],\n",
       "       [0., 0., 0.],\n",
       "       [0., 0., 0.]])"
      ]
     },
     "execution_count": 6,
     "metadata": {},
     "output_type": "execute_result"
    }
   ],
   "source": [
    "np.zeros([3,3])"
   ]
  },
  {
   "cell_type": "markdown",
   "id": "114c4b73",
   "metadata": {},
   "source": [
    "### 3. Create a 3D numpy array with shape(2,3,4) and fill it with ones"
   ]
  },
  {
   "cell_type": "code",
   "execution_count": 7,
   "id": "b1a7b992",
   "metadata": {},
   "outputs": [
    {
     "data": {
      "text/plain": [
       "array([[[1., 1., 1., 1.],\n",
       "        [1., 1., 1., 1.],\n",
       "        [1., 1., 1., 1.]],\n",
       "\n",
       "       [[1., 1., 1., 1.],\n",
       "        [1., 1., 1., 1.],\n",
       "        [1., 1., 1., 1.]]])"
      ]
     },
     "execution_count": 7,
     "metadata": {},
     "output_type": "execute_result"
    }
   ],
   "source": [
    "np.ones([2,3,4])"
   ]
  },
  {
   "cell_type": "markdown",
   "id": "eec7c704",
   "metadata": {},
   "source": [
    "### 4. Create a numpy array with 10 random integers between 0 and 100"
   ]
  },
  {
   "cell_type": "code",
   "execution_count": 15,
   "id": "4d5bbbb9",
   "metadata": {},
   "outputs": [
    {
     "data": {
      "text/plain": [
       "array([48,  1, 41,  0, 18, 81,  9, 35, 96, 40])"
      ]
     },
     "execution_count": 15,
     "metadata": {},
     "output_type": "execute_result"
    }
   ],
   "source": [
    "Random_Number=np.random.randint(100,size=(10))\n",
    "Random_Number"
   ]
  },
  {
   "cell_type": "markdown",
   "id": "5ea9b24e",
   "metadata": {},
   "source": [
    "### 5. Create a numpy array with 10 random flots between 0 and 1"
   ]
  },
  {
   "cell_type": "code",
   "execution_count": 19,
   "id": "da3c0cf0",
   "metadata": {},
   "outputs": [
    {
     "data": {
      "text/plain": [
       "array([0.6136516 , 0.63910347, 0.35642057, 0.55081723, 0.26898478,\n",
       "       0.99936421, 0.90570959, 0.6818623 , 0.8900212 , 0.06416133])"
      ]
     },
     "execution_count": 19,
     "metadata": {},
     "output_type": "execute_result"
    }
   ],
   "source": [
    "Random_Number_flots=np.random.rand(10)\n",
    "Random_Number_flots"
   ]
  },
  {
   "cell_type": "markdown",
   "id": "cec0a53e",
   "metadata": {},
   "source": [
    "### 6. Create a numpy array with 5 equally speced values between 0 and 1"
   ]
  },
  {
   "cell_type": "code",
   "execution_count": 23,
   "id": "783046fe",
   "metadata": {},
   "outputs": [
    {
     "data": {
      "text/plain": [
       "array([0.  , 0.25, 0.5 , 0.75, 1.  ])"
      ]
     },
     "execution_count": 23,
     "metadata": {},
     "output_type": "execute_result"
    }
   ],
   "source": [
    "np.arange(0,1.1,0.25)"
   ]
  },
  {
   "cell_type": "markdown",
   "id": "95bb84fb",
   "metadata": {},
   "source": [
    "### 7. Create a numpy array with 5 equally speced values between 0 and 10"
   ]
  },
  {
   "cell_type": "code",
   "execution_count": 31,
   "id": "c7c6bb84",
   "metadata": {},
   "outputs": [
    {
     "data": {
      "text/plain": [
       "array([0, 2, 4, 6, 8])"
      ]
     },
     "execution_count": 31,
     "metadata": {},
     "output_type": "execute_result"
    }
   ],
   "source": [
    "np.arange(0,10,2) "
   ]
  },
  {
   "cell_type": "markdown",
   "id": "1fe8857f",
   "metadata": {},
   "source": [
    "### 8. Create a numpy array with 5 equally speced values between -1 and 1"
   ]
  },
  {
   "cell_type": "code",
   "execution_count": 34,
   "id": "14bf1ce6",
   "metadata": {},
   "outputs": [
    {
     "data": {
      "text/plain": [
       "array([-1. , -0.5,  0. ,  0.5,  1. ])"
      ]
     },
     "execution_count": 34,
     "metadata": {},
     "output_type": "execute_result"
    }
   ],
   "source": [
    "np.arange(-1,1.5,0.5) "
   ]
  },
  {
   "cell_type": "markdown",
   "id": "66cf1d60",
   "metadata": {},
   "source": [
    "### 9. Create a numpy array with the sine values of angles between 0 and 2pi"
   ]
  },
  {
   "cell_type": "code",
   "execution_count": 44,
   "id": "a50aca75",
   "metadata": {},
   "outputs": [
    {
     "data": {
      "text/plain": [
       "array([ 0.0000000e+00,  1.0000000e+00,  1.2246468e-16, -1.0000000e+00,\n",
       "       -2.4492936e-16])"
      ]
     },
     "execution_count": 44,
     "metadata": {},
     "output_type": "execute_result"
    }
   ],
   "source": [
    "in_array = np.linspace(0, 2*np.pi,5)\n",
    "out_array = np.sin(in_array)\n",
    "out_array "
   ]
  },
  {
   "cell_type": "markdown",
   "id": "40c286af",
   "metadata": {},
   "source": [
    "### 10. Create a numpy array with the cosine values of angles between 0 and pi"
   ]
  },
  {
   "cell_type": "code",
   "execution_count": 46,
   "id": "8b2d878e",
   "metadata": {},
   "outputs": [
    {
     "data": {
      "text/plain": [
       "array([ 0.0000000e+00,  1.0000000e+00,  1.2246468e-16, -1.0000000e+00,\n",
       "       -2.4492936e-16])"
      ]
     },
     "execution_count": 46,
     "metadata": {},
     "output_type": "execute_result"
    }
   ],
   "source": [
    "in_array1 = np.linspace(0, np.pi,5)\n",
    "out_array1 = np.cos(in_array)\n",
    "out_array "
   ]
  },
  {
   "cell_type": "code",
   "execution_count": null,
   "id": "7a2be4fe",
   "metadata": {},
   "outputs": [],
   "source": []
  }
 ],
 "metadata": {
  "kernelspec": {
   "display_name": "Python 3 (ipykernel)",
   "language": "python",
   "name": "python3"
  },
  "language_info": {
   "codemirror_mode": {
    "name": "ipython",
    "version": 3
   },
   "file_extension": ".py",
   "mimetype": "text/x-python",
   "name": "python",
   "nbconvert_exporter": "python",
   "pygments_lexer": "ipython3",
   "version": "3.9.13"
  }
 },
 "nbformat": 4,
 "nbformat_minor": 5
}
