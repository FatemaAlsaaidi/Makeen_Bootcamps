{
 "cells": [
  {
   "cell_type": "code",
   "execution_count": 78,
   "id": "c343b6fb",
   "metadata": {},
   "outputs": [],
   "source": [
    "import numpy as np"
   ]
  },
  {
   "cell_type": "markdown",
   "id": "b1c088f7",
   "metadata": {},
   "source": [
    "# Scalar Operations"
   ]
  },
  {
   "cell_type": "markdown",
   "id": "2ae95dba",
   "metadata": {},
   "source": [
    "### 1. Create a 2*2 Numpy array and multiple it by 2"
   ]
  },
  {
   "cell_type": "code",
   "execution_count": 79,
   "id": "a8e02d8f",
   "metadata": {},
   "outputs": [],
   "source": [
    "l1=[1,2]"
   ]
  },
  {
   "cell_type": "code",
   "execution_count": 80,
   "id": "c05ddeac",
   "metadata": {},
   "outputs": [],
   "source": [
    "l2=[3,4]"
   ]
  },
  {
   "cell_type": "code",
   "execution_count": 81,
   "id": "3cf42892",
   "metadata": {},
   "outputs": [],
   "source": [
    "l=(l1,l2)"
   ]
  },
  {
   "cell_type": "code",
   "execution_count": 82,
   "id": "6576e47e",
   "metadata": {},
   "outputs": [
    {
     "data": {
      "text/plain": [
       "array([[1, 2],\n",
       "       [3, 4]])"
      ]
     },
     "execution_count": 82,
     "metadata": {},
     "output_type": "execute_result"
    }
   ],
   "source": [
    "array_2D_2= np.array(l)\n",
    "array_2D_2"
   ]
  },
  {
   "cell_type": "code",
   "execution_count": 83,
   "id": "411600fa",
   "metadata": {},
   "outputs": [
    {
     "data": {
      "text/plain": [
       "array([[2, 4],\n",
       "       [6, 8]])"
      ]
     },
     "execution_count": 83,
     "metadata": {},
     "output_type": "execute_result"
    }
   ],
   "source": [
    "array_2D_2*2"
   ]
  },
  {
   "cell_type": "markdown",
   "id": "307e8fd8",
   "metadata": {},
   "source": [
    "### 2. Create a 3*3 Numpy array and add 5 to each element"
   ]
  },
  {
   "cell_type": "code",
   "execution_count": 84,
   "id": "fbed9652",
   "metadata": {},
   "outputs": [],
   "source": [
    "l3=[5,6,7]"
   ]
  },
  {
   "cell_type": "code",
   "execution_count": 85,
   "id": "7d5ec4cc",
   "metadata": {},
   "outputs": [],
   "source": [
    "l4=[8,9,10]"
   ]
  },
  {
   "cell_type": "code",
   "execution_count": 86,
   "id": "17946ce8",
   "metadata": {},
   "outputs": [],
   "source": [
    "l5=[11,12,13]"
   ]
  },
  {
   "cell_type": "code",
   "execution_count": 87,
   "id": "a7a0d91a",
   "metadata": {},
   "outputs": [
    {
     "data": {
      "text/plain": [
       "([5, 6, 7], [8, 9, 10], [11, 12, 13])"
      ]
     },
     "execution_count": 87,
     "metadata": {},
     "output_type": "execute_result"
    }
   ],
   "source": [
    "ll=(l3,l4,l5)\n",
    "ll"
   ]
  },
  {
   "cell_type": "code",
   "execution_count": 88,
   "id": "2d9b130f",
   "metadata": {},
   "outputs": [
    {
     "data": {
      "text/plain": [
       "array([[ 5,  6,  7],\n",
       "       [ 8,  9, 10],\n",
       "       [11, 12, 13]])"
      ]
     },
     "execution_count": 88,
     "metadata": {},
     "output_type": "execute_result"
    }
   ],
   "source": [
    "array_2D_3= np.array(ll)\n",
    "array_2D_3"
   ]
  },
  {
   "cell_type": "code",
   "execution_count": 89,
   "id": "03e59ffb",
   "metadata": {},
   "outputs": [
    {
     "data": {
      "text/plain": [
       "array([[10, 11, 12],\n",
       "       [13, 14, 15],\n",
       "       [16, 17, 18]])"
      ]
     },
     "execution_count": 89,
     "metadata": {},
     "output_type": "execute_result"
    }
   ],
   "source": [
    "array_2D_3+5"
   ]
  },
  {
   "cell_type": "markdown",
   "id": "5a7984e6",
   "metadata": {},
   "source": [
    "### 3. Create a 4*4 Numpy array and subtract 10 from each element "
   ]
  },
  {
   "cell_type": "code",
   "execution_count": 90,
   "id": "f8656d98",
   "metadata": {},
   "outputs": [
    {
     "data": {
      "text/plain": [
       "array([[ 1,  2,  3,  4],\n",
       "       [ 5,  6,  7,  8],\n",
       "       [ 9, 10, 11, 12],\n",
       "       [13, 14, 15, 16]])"
      ]
     },
     "execution_count": 90,
     "metadata": {},
     "output_type": "execute_result"
    }
   ],
   "source": [
    "array_2D_4 = np.array([[1,2,3,4],[5,6,7,8],[9,10,11,12],[13,14,15,16]])\n",
    "array_2D_4"
   ]
  },
  {
   "cell_type": "code",
   "execution_count": 91,
   "id": "f4c62f8f",
   "metadata": {},
   "outputs": [
    {
     "data": {
      "text/plain": [
       "array([[-9, -8, -7, -6],\n",
       "       [-5, -4, -3, -2],\n",
       "       [-1,  0,  1,  2],\n",
       "       [ 3,  4,  5,  6]])"
      ]
     },
     "execution_count": 91,
     "metadata": {},
     "output_type": "execute_result"
    }
   ],
   "source": [
    "array_2D_4 -10"
   ]
  },
  {
   "cell_type": "markdown",
   "id": "153b0469",
   "metadata": {},
   "source": [
    "### 4. Create a 5*5 Numpy array and divided each element by 2"
   ]
  },
  {
   "cell_type": "code",
   "execution_count": 92,
   "id": "36b029b2",
   "metadata": {},
   "outputs": [],
   "source": [
    "array_2D_5 = np.array([[1,2,3,4,5],[6,7,8,9,10],[11,12,13,14,15],[16,17,18,19,20],[21,22,23,24,25]])"
   ]
  },
  {
   "cell_type": "code",
   "execution_count": 93,
   "id": "1f106562",
   "metadata": {},
   "outputs": [
    {
     "data": {
      "text/plain": [
       "array([[ 1,  2,  3,  4,  5],\n",
       "       [ 6,  7,  8,  9, 10],\n",
       "       [11, 12, 13, 14, 15],\n",
       "       [16, 17, 18, 19, 20],\n",
       "       [21, 22, 23, 24, 25]])"
      ]
     },
     "execution_count": 93,
     "metadata": {},
     "output_type": "execute_result"
    }
   ],
   "source": [
    "array_2D_5"
   ]
  },
  {
   "cell_type": "code",
   "execution_count": 94,
   "id": "2447c89a",
   "metadata": {},
   "outputs": [
    {
     "data": {
      "text/plain": [
       "array([[ 0.5,  1. ,  1.5,  2. ,  2.5],\n",
       "       [ 3. ,  3.5,  4. ,  4.5,  5. ],\n",
       "       [ 5.5,  6. ,  6.5,  7. ,  7.5],\n",
       "       [ 8. ,  8.5,  9. ,  9.5, 10. ],\n",
       "       [10.5, 11. , 11.5, 12. , 12.5]])"
      ]
     },
     "execution_count": 94,
     "metadata": {},
     "output_type": "execute_result"
    }
   ],
   "source": [
    "array_2D_5/2"
   ]
  },
  {
   "cell_type": "markdown",
   "id": "7d984904",
   "metadata": {},
   "source": [
    "### 5. Create a 6*6 Numpy array and calculate the sequare root of each element"
   ]
  },
  {
   "cell_type": "code",
   "execution_count": 95,
   "id": "abcca3dd",
   "metadata": {},
   "outputs": [],
   "source": [
    "array_2D_6 = np.array([[1,2,3,4,5,6],[6,7,8,9,10,11],[11,12,13,14,15,16],[16,17,18,19,20,21],[21,22,23,24,25,26],[27,28,29,30,31,32]])"
   ]
  },
  {
   "cell_type": "code",
   "execution_count": 96,
   "id": "f70406a1",
   "metadata": {},
   "outputs": [
    {
     "data": {
      "text/plain": [
       "array([[ 1,  2,  3,  4,  5,  6],\n",
       "       [ 6,  7,  8,  9, 10, 11],\n",
       "       [11, 12, 13, 14, 15, 16],\n",
       "       [16, 17, 18, 19, 20, 21],\n",
       "       [21, 22, 23, 24, 25, 26],\n",
       "       [27, 28, 29, 30, 31, 32]])"
      ]
     },
     "execution_count": 96,
     "metadata": {},
     "output_type": "execute_result"
    }
   ],
   "source": [
    "array_2D_6"
   ]
  },
  {
   "cell_type": "code",
   "execution_count": 97,
   "id": "e7184847",
   "metadata": {},
   "outputs": [
    {
     "data": {
      "text/plain": [
       "array([[1.        , 1.41421356, 1.73205081, 2.        , 2.23606798,\n",
       "        2.44948974],\n",
       "       [2.44948974, 2.64575131, 2.82842712, 3.        , 3.16227766,\n",
       "        3.31662479],\n",
       "       [3.31662479, 3.46410162, 3.60555128, 3.74165739, 3.87298335,\n",
       "        4.        ],\n",
       "       [4.        , 4.12310563, 4.24264069, 4.35889894, 4.47213595,\n",
       "        4.58257569],\n",
       "       [4.58257569, 4.69041576, 4.79583152, 4.89897949, 5.        ,\n",
       "        5.09901951],\n",
       "       [5.19615242, 5.29150262, 5.38516481, 5.47722558, 5.56776436,\n",
       "        5.65685425]])"
      ]
     },
     "execution_count": 97,
     "metadata": {},
     "output_type": "execute_result"
    }
   ],
   "source": [
    "np.sqrt(array_2D_6)"
   ]
  },
  {
   "cell_type": "markdown",
   "id": "572e9d76",
   "metadata": {},
   "source": [
    "# Matrix product and Multiplication"
   ]
  },
  {
   "cell_type": "markdown",
   "id": "c0c054af",
   "metadata": {},
   "source": [
    "### 1. Create two 2*2 Numpy arrays and calculate their product using the np.matmul() function"
   ]
  },
  {
   "cell_type": "code",
   "execution_count": 98,
   "id": "2ec85ff9",
   "metadata": {},
   "outputs": [
    {
     "data": {
      "text/plain": [
       "array([[1, 2],\n",
       "       [3, 4]])"
      ]
     },
     "execution_count": 98,
     "metadata": {},
     "output_type": "execute_result"
    }
   ],
   "source": [
    "a = np.array([[1,2],[3,4]])\n",
    "a"
   ]
  },
  {
   "cell_type": "code",
   "execution_count": 99,
   "id": "b5fd8987",
   "metadata": {},
   "outputs": [
    {
     "data": {
      "text/plain": [
       "array([[5, 6],\n",
       "       [7, 8]])"
      ]
     },
     "execution_count": 99,
     "metadata": {},
     "output_type": "execute_result"
    }
   ],
   "source": [
    "b = np.array([[5,6],[7,8]])\n",
    "b"
   ]
  },
  {
   "cell_type": "code",
   "execution_count": 100,
   "id": "ac99032d",
   "metadata": {},
   "outputs": [
    {
     "data": {
      "text/plain": [
       "array([[19, 22],\n",
       "       [43, 50]])"
      ]
     },
     "execution_count": 100,
     "metadata": {},
     "output_type": "execute_result"
    }
   ],
   "source": [
    "np.matmul(a,b)"
   ]
  },
  {
   "cell_type": "markdown",
   "id": "d311b613",
   "metadata": {},
   "source": [
    "### 2 . Create two 3*3 Numpy arrays and calculate their product using  the np.dot() function"
   ]
  },
  {
   "cell_type": "code",
   "execution_count": 101,
   "id": "716295d1",
   "metadata": {},
   "outputs": [],
   "source": [
    "c = np.array([[1,2,3],[3,4,5],[6,7,8]])\n",
    "d = np.array([[9,10,11],[12,3,14],[15,16,17]])"
   ]
  },
  {
   "cell_type": "code",
   "execution_count": 102,
   "id": "7d93d0c7",
   "metadata": {},
   "outputs": [
    {
     "data": {
      "text/plain": [
       "array([[ 78,  64,  90],\n",
       "       [150, 122, 174],\n",
       "       [258, 209, 300]])"
      ]
     },
     "execution_count": 102,
     "metadata": {},
     "output_type": "execute_result"
    }
   ],
   "source": [
    "np.dot(c, d)"
   ]
  },
  {
   "cell_type": "markdown",
   "id": "3f2bbc44",
   "metadata": {},
   "source": [
    "### 3.Create two 2 * 3 Numpy array and  3 * 2 Numpy array and calculate their product using the np.matmul function "
   ]
  },
  {
   "cell_type": "code",
   "execution_count": 103,
   "id": "82db355e",
   "metadata": {},
   "outputs": [],
   "source": [
    "e= np.array([[1,2,3],[3,4,5]])"
   ]
  },
  {
   "cell_type": "code",
   "execution_count": 104,
   "id": "92f1d54f",
   "metadata": {},
   "outputs": [],
   "source": [
    "f=np.array([[5,6],[7,8],[9,10]])"
   ]
  },
  {
   "cell_type": "code",
   "execution_count": 105,
   "id": "16f5a836",
   "metadata": {},
   "outputs": [
    {
     "data": {
      "text/plain": [
       "array([[ 46,  52],\n",
       "       [ 88, 100]])"
      ]
     },
     "execution_count": 105,
     "metadata": {},
     "output_type": "execute_result"
    }
   ],
   "source": [
    "np.matmul(e,f)"
   ]
  },
  {
   "cell_type": "markdown",
   "id": "e547b313",
   "metadata": {},
   "source": [
    "### 4. Create a 3x2 NumPy array and a 2x3 NumPy array, and calculate their product using the np.dot() function "
   ]
  },
  {
   "cell_type": "code",
   "execution_count": 106,
   "id": "f82b695d",
   "metadata": {},
   "outputs": [
    {
     "data": {
      "text/plain": [
       "array([[ 46,  52],\n",
       "       [ 88, 100]])"
      ]
     },
     "execution_count": 106,
     "metadata": {},
     "output_type": "execute_result"
    }
   ],
   "source": [
    "np.dot(e,f)"
   ]
  },
  {
   "cell_type": "markdown",
   "id": "b7162f64",
   "metadata": {},
   "source": [
    "### 5. Create a 4x4 NumPy array and its transpose using the np.transpose() function, then calculate their product using the np.matmul() function."
   ]
  },
  {
   "cell_type": "code",
   "execution_count": 107,
   "id": "09cef605",
   "metadata": {},
   "outputs": [
    {
     "data": {
      "text/plain": [
       "array([[ 1,  2,  3,  4],\n",
       "       [ 5,  6,  7,  8],\n",
       "       [ 9, 10, 11, 12],\n",
       "       [13, 14, 15, 16]])"
      ]
     },
     "execution_count": 107,
     "metadata": {},
     "output_type": "execute_result"
    }
   ],
   "source": [
    "aa = np.array([[1,2,3,4],[5,6,7,8],[9,10,11,12],[13,14,15,16]])\n",
    "aa"
   ]
  },
  {
   "cell_type": "code",
   "execution_count": 108,
   "id": "ea6999b9",
   "metadata": {},
   "outputs": [
    {
     "data": {
      "text/plain": [
       "array([[ 1,  5,  9, 13],\n",
       "       [ 2,  6, 10, 14],\n",
       "       [ 3,  7, 11, 15],\n",
       "       [ 4,  8, 12, 16]])"
      ]
     },
     "execution_count": 108,
     "metadata": {},
     "output_type": "execute_result"
    }
   ],
   "source": [
    "aa_t = np.transpose(aa) # same if i use this line of code aa.T\n",
    "aa_t"
   ]
  },
  {
   "cell_type": "code",
   "execution_count": 109,
   "id": "52c73ada",
   "metadata": {},
   "outputs": [
    {
     "data": {
      "text/plain": [
       "array([[ 30,  70, 110, 150],\n",
       "       [ 70, 174, 278, 382],\n",
       "       [110, 278, 446, 614],\n",
       "       [150, 382, 614, 846]])"
      ]
     },
     "execution_count": 109,
     "metadata": {},
     "output_type": "execute_result"
    }
   ],
   "source": [
    "np.matmul(aa,aa_t)"
   ]
  },
  {
   "cell_type": "code",
   "execution_count": null,
   "id": "a9ec9506",
   "metadata": {},
   "outputs": [],
   "source": []
  }
 ],
 "metadata": {
  "kernelspec": {
   "display_name": "Python 3 (ipykernel)",
   "language": "python",
   "name": "python3"
  },
  "language_info": {
   "codemirror_mode": {
    "name": "ipython",
    "version": 3
   },
   "file_extension": ".py",
   "mimetype": "text/x-python",
   "name": "python",
   "nbconvert_exporter": "python",
   "pygments_lexer": "ipython3",
   "version": "3.9.13"
  }
 },
 "nbformat": 4,
 "nbformat_minor": 5
}
