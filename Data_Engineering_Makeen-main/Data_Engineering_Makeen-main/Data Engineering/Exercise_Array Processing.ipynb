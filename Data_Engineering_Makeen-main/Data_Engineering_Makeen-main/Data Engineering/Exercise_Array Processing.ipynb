{
 "cells": [
  {
   "cell_type": "markdown",
   "id": "03e99457",
   "metadata": {},
   "source": [
    "# Array Processing"
   ]
  },
  {
   "cell_type": "markdown",
   "id": "d227822c",
   "metadata": {},
   "source": [
    "#### 1. Create a NumPy array with 10 random integers between 0 and 100"
   ]
  },
  {
   "cell_type": "code",
   "execution_count": 16,
   "id": "fae67d4f",
   "metadata": {},
   "outputs": [],
   "source": [
    "import numpy as np\n",
    "import random\n",
    "import statistics"
   ]
  },
  {
   "cell_type": "code",
   "execution_count": 7,
   "id": "0716c8d5",
   "metadata": {},
   "outputs": [
    {
     "data": {
      "text/plain": [
       "array([97, 96,  5, 56, 78, 86, 56, 81, 37, 41])"
      ]
     },
     "execution_count": 7,
     "metadata": {},
     "output_type": "execute_result"
    }
   ],
   "source": [
    "a= np.random.randint(101,size=10, dtype='int')\n",
    "a"
   ]
  },
  {
   "cell_type": "markdown",
   "id": "c9b090be",
   "metadata": {},
   "source": [
    "#### 2. Use the np.where() function to create a new array with the same shape as the previous one, where values less than 50 are replaced with -1 and values greater than or equal to 50 are replaced with 1."
   ]
  },
  {
   "cell_type": "code",
   "execution_count": 18,
   "id": "9e6f091e",
   "metadata": {},
   "outputs": [
    {
     "data": {
      "text/plain": [
       "array([ 1,  1, -1,  1,  1,  1,  1,  1, -1, -1])"
      ]
     },
     "execution_count": 18,
     "metadata": {},
     "output_type": "execute_result"
    }
   ],
   "source": [
    "b= np.where(a<50,-1,1)\n",
    "b"
   ]
  },
  {
   "cell_type": "markdown",
   "id": "fac7691e",
   "metadata": {},
   "source": [
    "#### 3. Calculate the mean, median, and standard deviation of the original array."
   ]
  },
  {
   "cell_type": "code",
   "execution_count": 19,
   "id": "113a5495",
   "metadata": {},
   "outputs": [
    {
     "data": {
      "text/plain": [
       "63.3"
      ]
     },
     "execution_count": 19,
     "metadata": {},
     "output_type": "execute_result"
    }
   ],
   "source": [
    "a.mean()"
   ]
  },
  {
   "cell_type": "code",
   "execution_count": 20,
   "id": "cb2ec3d3",
   "metadata": {},
   "outputs": [
    {
     "data": {
      "text/plain": [
       "67.0"
      ]
     },
     "execution_count": 20,
     "metadata": {},
     "output_type": "execute_result"
    }
   ],
   "source": [
    "statistics.median(a)"
   ]
  },
  {
   "cell_type": "code",
   "execution_count": 21,
   "id": "82b18ca7",
   "metadata": {},
   "outputs": [
    {
     "data": {
      "text/plain": [
       "29.698484809834994"
      ]
     },
     "execution_count": 21,
     "metadata": {},
     "output_type": "execute_result"
    }
   ],
   "source": [
    "statistics.stdev(a)"
   ]
  },
  {
   "cell_type": "markdown",
   "id": "4e2fe00e",
   "metadata": {},
   "source": [
    "#### 4. Create a boolean array that is True where the values in the original array are even, and False otherwise."
   ]
  },
  {
   "cell_type": "code",
   "execution_count": 22,
   "id": "c9b11af1",
   "metadata": {},
   "outputs": [
    {
     "data": {
      "text/plain": [
       "array(['False', 'True', 'False', 'True', 'True', 'True', 'True', 'False',\n",
       "       'False', 'False'], dtype='<U5')"
      ]
     },
     "execution_count": 22,
     "metadata": {},
     "output_type": "execute_result"
    }
   ],
   "source": [
    "c = np.where(a%2 == 0,'True', 'False')\n",
    "c"
   ]
  },
  {
   "cell_type": "markdown",
   "id": "2ead8c7d",
   "metadata": {},
   "source": [
    "#### 5. Sort the original array in ascending order."
   ]
  },
  {
   "cell_type": "code",
   "execution_count": 26,
   "id": "ef7358a8",
   "metadata": {},
   "outputs": [
    {
     "data": {
      "text/plain": [
       "[5, 37, 41, 56, 56, 78, 81, 86, 96, 97]"
      ]
     },
     "execution_count": 26,
     "metadata": {},
     "output_type": "execute_result"
    }
   ],
   "source": [
    "d = sorted(a)\n",
    "d"
   ]
  },
  {
   "cell_type": "markdown",
   "id": "850ee0fe",
   "metadata": {},
   "source": [
    "#### 6. Find the unique values in the original array."
   ]
  },
  {
   "cell_type": "code",
   "execution_count": 27,
   "id": "4daddf8f",
   "metadata": {},
   "outputs": [
    {
     "data": {
      "text/plain": [
       "array([ 5, 37, 41, 56, 78, 81, 86, 96, 97])"
      ]
     },
     "execution_count": 27,
     "metadata": {},
     "output_type": "execute_result"
    }
   ],
   "source": [
    "np.unique(a)"
   ]
  },
  {
   "cell_type": "markdown",
   "id": "d5f58f2c",
   "metadata": {},
   "source": [
    "#### 7. Use the np.in1d() function to create a boolean array indicating which elements of the original array are also present in a new array with 5 random integers between 0 and 100."
   ]
  },
  {
   "cell_type": "code",
   "execution_count": 28,
   "id": "fd6e6591",
   "metadata": {},
   "outputs": [
    {
     "data": {
      "text/plain": [
       "array([60, 99, 83, 86, 20])"
      ]
     },
     "execution_count": 28,
     "metadata": {},
     "output_type": "execute_result"
    }
   ],
   "source": [
    "c=np.random.randint(101,size=5, dtype='int')\n",
    "c"
   ]
  },
  {
   "cell_type": "code",
   "execution_count": 29,
   "id": "ff1fcb9a",
   "metadata": {},
   "outputs": [
    {
     "data": {
      "text/plain": [
       "array([False, False, False, False, False, False, False,  True, False,\n",
       "       False])"
      ]
     },
     "execution_count": 29,
     "metadata": {},
     "output_type": "execute_result"
    }
   ],
   "source": [
    " np.in1d(a,c) "
   ]
  },
  {
   "cell_type": "markdown",
   "id": "a212b036",
   "metadata": {},
   "source": [
    "#### 8. Save the original array to a text file named \"my_array.txt\" using the np.savetxt() function."
   ]
  },
  {
   "cell_type": "code",
   "execution_count": 32,
   "id": "ed4831ba",
   "metadata": {},
   "outputs": [],
   "source": [
    "d= np.savetxt(\"my_array.txt\",a)\n",
    "d"
   ]
  },
  {
   "cell_type": "code",
   "execution_count": null,
   "id": "f3ac5252",
   "metadata": {},
   "outputs": [],
   "source": []
  }
 ],
 "metadata": {
  "kernelspec": {
   "display_name": "Python 3 (ipykernel)",
   "language": "python",
   "name": "python3"
  },
  "language_info": {
   "codemirror_mode": {
    "name": "ipython",
    "version": 3
   },
   "file_extension": ".py",
   "mimetype": "text/x-python",
   "name": "python",
   "nbconvert_exporter": "python",
   "pygments_lexer": "ipython3",
   "version": "3.9.13"
  }
 },
 "nbformat": 4,
 "nbformat_minor": 5
}
