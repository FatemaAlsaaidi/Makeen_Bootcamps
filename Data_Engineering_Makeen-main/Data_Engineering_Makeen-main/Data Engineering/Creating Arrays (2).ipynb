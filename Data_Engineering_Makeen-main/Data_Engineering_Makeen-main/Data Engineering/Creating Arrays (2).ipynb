{
 "cells": [
  {
   "cell_type": "code",
   "execution_count": 1,
   "id": "79871dd1",
   "metadata": {},
   "outputs": [],
   "source": [
    "import numpy as np #Adding numpy lib "
   ]
  },
  {
   "cell_type": "markdown",
   "id": "5b6b44a2",
   "metadata": {},
   "source": [
    "## Create an array by lists"
   ]
  },
  {
   "cell_type": "code",
   "execution_count": 2,
   "id": "773e0cfd",
   "metadata": {},
   "outputs": [],
   "source": [
    "l1=[1,2,3,4] #Normal python list"
   ]
  },
  {
   "cell_type": "code",
   "execution_count": 5,
   "id": "4b6cbbff",
   "metadata": {},
   "outputs": [
    {
     "data": {
      "text/plain": [
       "[1, 2, 3, 4, 1, 2, 3, 4, 1, 2, 3, 4]"
      ]
     },
     "execution_count": 5,
     "metadata": {},
     "output_type": "execute_result"
    }
   ],
   "source": [
    "l1*3 #multiply list by number"
   ]
  },
  {
   "cell_type": "code",
   "execution_count": 3,
   "id": "c301228e",
   "metadata": {},
   "outputs": [],
   "source": [
    "arry1=np.array(l1) #creating 1D array from list"
   ]
  },
  {
   "cell_type": "code",
   "execution_count": 4,
   "id": "226d2a10",
   "metadata": {},
   "outputs": [
    {
     "data": {
      "text/plain": [
       "array([1, 2, 3, 4])"
      ]
     },
     "execution_count": 4,
     "metadata": {},
     "output_type": "execute_result"
    }
   ],
   "source": [
    "arry1"
   ]
  },
  {
   "cell_type": "code",
   "execution_count": 6,
   "id": "28cbeea5",
   "metadata": {},
   "outputs": [
    {
     "data": {
      "text/plain": [
       "array([ 5, 10, 15, 20])"
      ]
     },
     "execution_count": 6,
     "metadata": {},
     "output_type": "execute_result"
    }
   ],
   "source": [
    "arry1*5 #multiply array by number"
   ]
  },
  {
   "cell_type": "code",
   "execution_count": 7,
   "id": "59da1fc1",
   "metadata": {},
   "outputs": [
    {
     "data": {
      "text/plain": [
       "[11, 22, 33, 44]"
      ]
     },
     "execution_count": 7,
     "metadata": {},
     "output_type": "execute_result"
    }
   ],
   "source": [
    "l2=[11,22,33,44] #another array\n",
    "l2"
   ]
  },
  {
   "cell_type": "code",
   "execution_count": 8,
   "id": "f04f4ad6",
   "metadata": {},
   "outputs": [
    {
     "data": {
      "text/plain": [
       "[[1, 2, 3, 4], [11, 22, 33, 44]]"
      ]
     },
     "execution_count": 8,
     "metadata": {},
     "output_type": "execute_result"
    }
   ],
   "source": [
    "l=[l1,l2] # combining two lists\n",
    "l# it is not an array"
   ]
  },
  {
   "cell_type": "code",
   "execution_count": 10,
   "id": "5bf73cf7",
   "metadata": {},
   "outputs": [
    {
     "data": {
      "text/plain": [
       "array([[ 1,  2,  3,  4],\n",
       "       [11, 22, 33, 44]])"
      ]
     },
     "execution_count": 10,
     "metadata": {},
     "output_type": "execute_result"
    }
   ],
   "source": [
    "array_2D=np.array(l) #2D array\n",
    "array_2D"
   ]
  },
  {
   "cell_type": "code",
   "execution_count": 11,
   "id": "7495cae1",
   "metadata": {},
   "outputs": [
    {
     "data": {
      "text/plain": [
       "(2, 4)"
      ]
     },
     "execution_count": 11,
     "metadata": {},
     "output_type": "execute_result"
    }
   ],
   "source": [
    "array_2D.shape #check the type of the array"
   ]
  },
  {
   "cell_type": "code",
   "execution_count": 12,
   "id": "629a2e0a",
   "metadata": {},
   "outputs": [
    {
     "data": {
      "text/plain": [
       "dtype('int32')"
      ]
     },
     "execution_count": 12,
     "metadata": {},
     "output_type": "execute_result"
    }
   ],
   "source": [
    "array_2D.dtype #check the type of the array"
   ]
  },
  {
   "cell_type": "markdown",
   "id": "bb1eba3f",
   "metadata": {},
   "source": [
    "## Create special array by some special function "
   ]
  },
  {
   "cell_type": "markdown",
   "id": "8ad3a4db",
   "metadata": {},
   "source": [
    "#### Zeros Array"
   ]
  },
  {
   "cell_type": "code",
   "execution_count": 13,
   "id": "c73f940b",
   "metadata": {},
   "outputs": [
    {
     "data": {
      "text/plain": [
       "array([0., 0., 0.])"
      ]
     },
     "execution_count": 13,
     "metadata": {},
     "output_type": "execute_result"
    }
   ],
   "source": [
    "np.zeros(3) #Special Array (Zero) without data type"
   ]
  },
  {
   "cell_type": "code",
   "execution_count": 15,
   "id": "cccc78f4",
   "metadata": {},
   "outputs": [
    {
     "data": {
      "text/plain": [
       "array([0, 0, 0])"
      ]
     },
     "execution_count": 15,
     "metadata": {},
     "output_type": "execute_result"
    }
   ],
   "source": [
    "np.zeros(3, 'int') #Special Array (Zero) with data type"
   ]
  },
  {
   "cell_type": "markdown",
   "id": "2e99c676",
   "metadata": {},
   "source": [
    "#### Ones Array"
   ]
  },
  {
   "cell_type": "code",
   "execution_count": 16,
   "id": "e83e66d0",
   "metadata": {},
   "outputs": [
    {
     "data": {
      "text/plain": [
       "array([1., 1., 1.])"
      ]
     },
     "execution_count": 16,
     "metadata": {},
     "output_type": "execute_result"
    }
   ],
   "source": [
    "np.ones(3) #Special Array (Ones) without data type"
   ]
  },
  {
   "cell_type": "code",
   "execution_count": 17,
   "id": "f29ff975",
   "metadata": {},
   "outputs": [
    {
     "data": {
      "text/plain": [
       "array([1, 1, 1])"
      ]
     },
     "execution_count": 17,
     "metadata": {},
     "output_type": "execute_result"
    }
   ],
   "source": [
    "np.ones(3,'int') #Special Array (Ones) with data type"
   ]
  },
  {
   "cell_type": "code",
   "execution_count": 18,
   "id": "9a2915da",
   "metadata": {},
   "outputs": [
    {
     "data": {
      "text/plain": [
       "array([[1., 1., 1.],\n",
       "       [1., 1., 1.],\n",
       "       [1., 1., 1.]])"
      ]
     },
     "execution_count": 18,
     "metadata": {},
     "output_type": "execute_result"
    }
   ],
   "source": [
    " np.ones([3,3]) #Special Array (Ones), 2D Array without data type"
   ]
  },
  {
   "cell_type": "code",
   "execution_count": 50,
   "id": "0b3ad2a0",
   "metadata": {},
   "outputs": [
    {
     "data": {
      "text/plain": [
       "array([[1, 1, 1],\n",
       "       [1, 1, 1],\n",
       "       [1, 1, 1]])"
      ]
     },
     "execution_count": 50,
     "metadata": {},
     "output_type": "execute_result"
    }
   ],
   "source": [
    " np.ones([3,3],'int') #Special Array (Ones), 2D Array with data type"
   ]
  },
  {
   "cell_type": "markdown",
   "id": "b06b8d6f",
   "metadata": {},
   "source": [
    "#### Empty Array"
   ]
  },
  {
   "cell_type": "code",
   "execution_count": 51,
   "id": "ad1382bb",
   "metadata": {},
   "outputs": [
    {
     "data": {
      "text/plain": [
       "array([1., 1., 1.])"
      ]
     },
     "execution_count": 51,
     "metadata": {},
     "output_type": "execute_result"
    }
   ],
   "source": [
    "np.empty(3) #Special Array (Empty)"
   ]
  },
  {
   "cell_type": "code",
   "execution_count": 52,
   "id": "5f84d75d",
   "metadata": {},
   "outputs": [
    {
     "data": {
      "text/plain": [
       "array([0., 0., 0.])"
      ]
     },
     "execution_count": 52,
     "metadata": {},
     "output_type": "execute_result"
    }
   ],
   "source": [
    "np.zeros(3) "
   ]
  },
  {
   "cell_type": "code",
   "execution_count": 53,
   "id": "3996fab3",
   "metadata": {},
   "outputs": [
    {
     "data": {
      "text/plain": [
       "array([0., 0., 0.])"
      ]
     },
     "execution_count": 53,
     "metadata": {},
     "output_type": "execute_result"
    }
   ],
   "source": [
    "np.empty(3)"
   ]
  },
  {
   "cell_type": "code",
   "execution_count": 54,
   "id": "993c182d",
   "metadata": {},
   "outputs": [
    {
     "data": {
      "text/plain": [
       "array([1, 1, 1])"
      ]
     },
     "execution_count": 54,
     "metadata": {},
     "output_type": "execute_result"
    }
   ],
   "source": [
    "np.ones(3,'int')"
   ]
  },
  {
   "cell_type": "code",
   "execution_count": 55,
   "id": "1c6eb092",
   "metadata": {},
   "outputs": [
    {
     "data": {
      "text/plain": [
       "array([0., 0., 0.])"
      ]
     },
     "execution_count": 55,
     "metadata": {},
     "output_type": "execute_result"
    }
   ],
   "source": [
    "np.empty(3)"
   ]
  },
  {
   "cell_type": "code",
   "execution_count": 56,
   "id": "77db546d",
   "metadata": {},
   "outputs": [
    {
     "data": {
      "text/plain": [
       "array([1., 1., 1.])"
      ]
     },
     "execution_count": 56,
     "metadata": {},
     "output_type": "execute_result"
    }
   ],
   "source": [
    "np.ones(3)"
   ]
  },
  {
   "cell_type": "code",
   "execution_count": 57,
   "id": "be45910d",
   "metadata": {},
   "outputs": [
    {
     "data": {
      "text/plain": [
       "array([1., 1., 1.])"
      ]
     },
     "execution_count": 57,
     "metadata": {},
     "output_type": "execute_result"
    }
   ],
   "source": [
    "np.empty(3)"
   ]
  },
  {
   "cell_type": "markdown",
   "id": "6b2ae56e",
   "metadata": {},
   "source": [
    "#### Identity Array"
   ]
  },
  {
   "cell_type": "code",
   "execution_count": 58,
   "id": "dde7fc5e",
   "metadata": {},
   "outputs": [
    {
     "data": {
      "text/plain": [
       "array([[1., 0., 0., 0.],\n",
       "       [0., 1., 0., 0.],\n",
       "       [0., 0., 1., 0.],\n",
       "       [0., 0., 0., 1.]])"
      ]
     },
     "execution_count": 58,
     "metadata": {},
     "output_type": "execute_result"
    }
   ],
   "source": [
    "np.eye(4) ##Special Array (Identity, nxn) Array A*I=A"
   ]
  },
  {
   "cell_type": "markdown",
   "id": "0f0295cc",
   "metadata": {},
   "source": [
    "## Create Array with range function"
   ]
  },
  {
   "cell_type": "code",
   "execution_count": 59,
   "id": "2dc0876a",
   "metadata": {},
   "outputs": [
    {
     "data": {
      "text/plain": [
       "array([0, 1, 2, 3, 4, 5, 6, 7, 8, 9])"
      ]
     },
     "execution_count": 59,
     "metadata": {},
     "output_type": "execute_result"
    }
   ],
   "source": [
    "np.arange(10) #Create Array with range function"
   ]
  },
  {
   "cell_type": "code",
   "execution_count": 60,
   "id": "13cfa077",
   "metadata": {},
   "outputs": [
    {
     "data": {
      "text/plain": [
       "array([ 0,  2,  4,  6,  8, 10, 12, 14, 16, 18, 20, 22, 24, 26, 28, 30, 32,\n",
       "       34, 36, 38, 40, 42, 44, 46, 48])"
      ]
     },
     "execution_count": 60,
     "metadata": {},
     "output_type": "execute_result"
    }
   ],
   "source": [
    "np.arange(0,50,2) #Array with range function, start, end & increment"
   ]
  },
  {
   "cell_type": "code",
   "execution_count": null,
   "id": "304858ff",
   "metadata": {},
   "outputs": [],
   "source": []
  }
 ],
 "metadata": {
  "kernelspec": {
   "display_name": "Python 3 (ipykernel)",
   "language": "python",
   "name": "python3"
  },
  "language_info": {
   "codemirror_mode": {
    "name": "ipython",
    "version": 3
   },
   "file_extension": ".py",
   "mimetype": "text/x-python",
   "name": "python",
   "nbconvert_exporter": "python",
   "pygments_lexer": "ipython3",
   "version": "3.9.13"
  }
 },
 "nbformat": 4,
 "nbformat_minor": 5
}
