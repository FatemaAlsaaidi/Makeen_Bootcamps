{
 "cells": [
  {
   "cell_type": "markdown",
   "id": "e3afce50",
   "metadata": {},
   "source": [
    "# Series"
   ]
  },
  {
   "cell_type": "markdown",
   "id": "ab99ca84",
   "metadata": {},
   "source": [
    "#### 1. Create a Series using the following data: data = [10, 20, 30, 40, 50]"
   ]
  },
  {
   "cell_type": "code",
   "execution_count": 2,
   "id": "2d9e0cf9",
   "metadata": {},
   "outputs": [],
   "source": [
    "import numpy as np\n",
    "#import the pandas lib\n",
    "import pandas as pd\n",
    "from pandas import Series,DataFrame"
   ]
  },
  {
   "cell_type": "code",
   "execution_count": 3,
   "id": "7b378515",
   "metadata": {},
   "outputs": [
    {
     "data": {
      "text/plain": [
       "0    10\n",
       "1    20\n",
       "2    30\n",
       "3    40\n",
       "4    50\n",
       "dtype: int64"
      ]
     },
     "execution_count": 3,
     "metadata": {},
     "output_type": "execute_result"
    }
   ],
   "source": [
    "data = [10, 20, 30, 40, 50]\n",
    "s = Series(data)\n",
    "s"
   ]
  },
  {
   "cell_type": "markdown",
   "id": "84fa54cd",
   "metadata": {},
   "source": [
    "#### 2. Assign the following index labels to the Series: index = ['a', 'b', 'c', 'd', 'e']"
   ]
  },
  {
   "cell_type": "code",
   "execution_count": 4,
   "id": "05fd33cb",
   "metadata": {},
   "outputs": [
    {
     "data": {
      "text/plain": [
       "a    10\n",
       "b    20\n",
       "c    30\n",
       "d    40\n",
       "e    50\n",
       "dtype: int64"
      ]
     },
     "execution_count": 4,
     "metadata": {},
     "output_type": "execute_result"
    }
   ],
   "source": [
    "s.index =  ['a', 'b', 'c', 'd', 'e']\n",
    "s"
   ]
  },
  {
   "cell_type": "markdown",
   "id": "4a2cccb9",
   "metadata": {},
   "source": [
    "#### 3. Use index values to select the values of the Series for the labels 'b' and 'e'."
   ]
  },
  {
   "cell_type": "code",
   "execution_count": 5,
   "id": "b7a5739a",
   "metadata": {},
   "outputs": [
    {
     "data": {
      "text/plain": [
       "20"
      ]
     },
     "execution_count": 5,
     "metadata": {},
     "output_type": "execute_result"
    }
   ],
   "source": [
    "s['b']"
   ]
  },
  {
   "cell_type": "code",
   "execution_count": 6,
   "id": "30ee29e1",
   "metadata": {},
   "outputs": [
    {
     "data": {
      "text/plain": [
       "50"
      ]
     },
     "execution_count": 6,
     "metadata": {},
     "output_type": "execute_result"
    }
   ],
   "source": [
    "s['e']"
   ]
  },
  {
   "cell_type": "markdown",
   "id": "9aaa47ad",
   "metadata": {},
   "source": [
    "#### 4. Check if the Series contains the value 20 using a boolean array."
   ]
  },
  {
   "cell_type": "code",
   "execution_count": 7,
   "id": "2fd167b9",
   "metadata": {},
   "outputs": [
    {
     "data": {
      "text/plain": [
       "a    False\n",
       "b     True\n",
       "c    False\n",
       "d    False\n",
       "e    False\n",
       "dtype: bool"
      ]
     },
     "execution_count": 7,
     "metadata": {},
     "output_type": "execute_result"
    }
   ],
   "source": [
    "s.isin([20])"
   ]
  },
  {
   "cell_type": "code",
   "execution_count": 8,
   "id": "a9f99b37",
   "metadata": {},
   "outputs": [
    {
     "data": {
      "text/plain": [
       "True"
      ]
     },
     "execution_count": 8,
     "metadata": {},
     "output_type": "execute_result"
    }
   ],
   "source": [
    "s.isin([20]).any()"
   ]
  },
  {
   "cell_type": "markdown",
   "id": "af6f96bf",
   "metadata": {},
   "source": [
    "#### 5. Check if the Series contains the values 15 and 20 using a boolean array."
   ]
  },
  {
   "cell_type": "code",
   "execution_count": 9,
   "id": "a244b10d",
   "metadata": {},
   "outputs": [
    {
     "data": {
      "text/plain": [
       "a    False\n",
       "b     True\n",
       "c    False\n",
       "d    False\n",
       "e    False\n",
       "dtype: bool"
      ]
     },
     "execution_count": 9,
     "metadata": {},
     "output_type": "execute_result"
    }
   ],
   "source": [
    "s.isin([15,20])"
   ]
  },
  {
   "cell_type": "markdown",
   "id": "d21b28c1",
   "metadata": {},
   "source": [
    "#### 6. Add the value 5 to each element of the Series using array operations.\n"
   ]
  },
  {
   "cell_type": "code",
   "execution_count": 10,
   "id": "a22c729c",
   "metadata": {},
   "outputs": [
    {
     "data": {
      "text/plain": [
       "array([ 6,  7,  8,  9, 10])"
      ]
     },
     "execution_count": 10,
     "metadata": {},
     "output_type": "execute_result"
    }
   ],
   "source": [
    "series = np.array([1, 2, 3, 4, 5])\n",
    "series+5"
   ]
  },
  {
   "cell_type": "markdown",
   "id": "8d7bdba0",
   "metadata": {},
   "source": [
    "#### 7. Convert the Series into a Python dictionary and check its values."
   ]
  },
  {
   "cell_type": "code",
   "execution_count": 11,
   "id": "d1476dcf",
   "metadata": {},
   "outputs": [
    {
     "data": {
      "text/plain": [
       "array([1, 2, 3, 4, 5])"
      ]
     },
     "execution_count": 11,
     "metadata": {},
     "output_type": "execute_result"
    }
   ],
   "source": [
    "series_1 = np.array([1, 2, 3, 4, 5])\n",
    "series_1"
   ]
  },
  {
   "cell_type": "code",
   "execution_count": 12,
   "id": "db4c2fef",
   "metadata": {},
   "outputs": [
    {
     "name": "stdout",
     "output_type": "stream",
     "text": [
      "{0: 1, 1: 2, 2: 3, 3: 4, 4: 5}\n"
     ]
    }
   ],
   "source": [
    "dictionary = {}\n",
    "for index, value in enumerate(series_1):\n",
    "    dictionary[index] = value\n",
    "print(dictionary)"
   ]
  },
  {
   "cell_type": "markdown",
   "id": "bbfb312f",
   "metadata": {},
   "source": [
    "#### 8. Pass a dictionary to the Series constructor and assign the following keys and values:{'a': 10, 'b': 20, 'c': 30, 'd': 40, 'e': 50, 'f': 60}"
   ]
  },
  {
   "cell_type": "code",
   "execution_count": 13,
   "id": "2de22328",
   "metadata": {},
   "outputs": [
    {
     "name": "stdout",
     "output_type": "stream",
     "text": [
      "a    10\n",
      "b    20\n",
      "c    30\n",
      "d    40\n",
      "e    50\n",
      "f    60\n",
      "dtype: int64\n"
     ]
    }
   ],
   "source": [
    "dictionary = {'a': 10, 'b': 20, 'c': 30, 'd': 40, 'e': 50, 'f': 60}\n",
    "\n",
    "series_2 = pd.Series(dictionary)\n",
    "\n",
    "print(series_2)"
   ]
  },
  {
   "cell_type": "markdown",
   "id": "55ce8c0a",
   "metadata": {},
   "source": [
    "#### 9. Check if any values in the Series are null or not null using isnull() and notnull() methods"
   ]
  },
  {
   "cell_type": "code",
   "execution_count": 14,
   "id": "e179f8ed",
   "metadata": {},
   "outputs": [
    {
     "name": "stdout",
     "output_type": "stream",
     "text": [
      "[False False False  True False False]\n"
     ]
    }
   ],
   "source": [
    "Series_3 = np.array([1, 2, 3, np.nan, 5, 6])\n",
    "\n",
    "null_values = np.isnan(Series_3)\n",
    "\n",
    "print(null_values)"
   ]
  },
  {
   "cell_type": "code",
   "execution_count": 15,
   "id": "088891be",
   "metadata": {},
   "outputs": [
    {
     "data": {
      "text/plain": [
       "array([ True,  True,  True, False,  True,  True])"
      ]
     },
     "execution_count": 15,
     "metadata": {},
     "output_type": "execute_result"
    }
   ],
   "source": [
    "not_null_values = ~np.isnan(Series_3)\n",
    "not_null_values"
   ]
  },
  {
   "cell_type": "markdown",
   "id": "d34b744b",
   "metadata": {},
   "source": [
    "#### 10. Create another Series using the following data: data2 = [20, 30, 40, 50, 60]"
   ]
  },
  {
   "cell_type": "code",
   "execution_count": 16,
   "id": "557a33bb",
   "metadata": {},
   "outputs": [
    {
     "name": "stdout",
     "output_type": "stream",
     "text": [
      "0    20\n",
      "1    30\n",
      "2    40\n",
      "3    50\n",
      "4    60\n",
      "dtype: int64\n"
     ]
    }
   ],
   "source": [
    "data2 = [20, 30, 40, 50, 60]\n",
    "series2 = pd.Series(data2)\n",
    "print(series2)"
   ]
  },
  {
   "cell_type": "markdown",
   "id": "05156f92",
   "metadata": {},
   "source": [
    "#### 11. Assign the following index labels to the second Series: index2 = ['b', 'c', 'd', 'e', 'f']"
   ]
  },
  {
   "cell_type": "code",
   "execution_count": 17,
   "id": "021a3369",
   "metadata": {},
   "outputs": [
    {
     "data": {
      "text/plain": [
       "b    20\n",
       "c    30\n",
       "d    40\n",
       "e    50\n",
       "f    60\n",
       "dtype: int64"
      ]
     },
     "execution_count": 17,
     "metadata": {},
     "output_type": "execute_result"
    }
   ],
   "source": [
    "index2 = ['b', 'c', 'd', 'e', 'f']\n",
    "series3 = pd.Series(data2, index=index2)\n",
    "series3"
   ]
  },
  {
   "cell_type": "markdown",
   "id": "85ca001c",
   "metadata": {},
   "source": [
    "#### 12. Add the two Series together and observe how pandas automatically aligns the data based on their index labels."
   ]
  },
  {
   "cell_type": "code",
   "execution_count": 18,
   "id": "3a5ae77e",
   "metadata": {},
   "outputs": [
    {
     "name": "stdout",
     "output_type": "stream",
     "text": [
      "a      NaN\n",
      "b     40.0\n",
      "c     60.0\n",
      "d     80.0\n",
      "e    100.0\n",
      "f      NaN\n",
      "dtype: float64\n"
     ]
    }
   ],
   "source": [
    "data1 = [10, 20, 30, 40, 50]\n",
    "index1 = ['a', 'b', 'c', 'd', 'e']\n",
    "\n",
    "data2 = [20, 30, 40, 50, 60]\n",
    "index2 = ['b', 'c', 'd', 'e', 'f']\n",
    "\n",
    "series4 = pd.Series(data1, index=index1)\n",
    "series5= pd.Series(data2, index=index2)\n",
    "\n",
    "print(series4 + series5)"
   ]
  },
  {
   "cell_type": "markdown",
   "id": "130a2b2e",
   "metadata": {},
   "source": [
    "#### 13. Use the unique() method to find the unique values in the Series."
   ]
  },
  {
   "cell_type": "code",
   "execution_count": 19,
   "id": "8075c41a",
   "metadata": {},
   "outputs": [
    {
     "data": {
      "text/plain": [
       "array([10, 20, 30, 40, 50, 60])"
      ]
     },
     "execution_count": 19,
     "metadata": {},
     "output_type": "execute_result"
    }
   ],
   "source": [
    "data3 = [20, 30, 40, 50, 60,20,10,40]\n",
    "np.unique(data3)"
   ]
  },
  {
   "cell_type": "markdown",
   "id": "bc9fb549",
   "metadata": {},
   "source": [
    "#### 14. Use the sort_values() method to sort the Series in ascending order by value."
   ]
  },
  {
   "cell_type": "code",
   "execution_count": 20,
   "id": "4cc70efb",
   "metadata": {},
   "outputs": [
    {
     "name": "stdout",
     "output_type": "stream",
     "text": [
      "i     5\n",
      "a    10\n",
      "f    15\n",
      "j    15\n",
      "d    20\n",
      "e    30\n",
      "c    40\n",
      "g    40\n",
      "h    50\n",
      "b    60\n",
      "dtype: int64\n"
     ]
    }
   ],
   "source": [
    "data4 = [10,60,40, 20, 30,15, 40, 50,5, 15]\n",
    "index1 = ['a', 'b', 'c', 'd', 'e', 'f', 'g', 'h', 'i', 'j']\n",
    "\n",
    "series1 = pd.Series(data4, index=index1)\n",
    "\n",
    "print(series1.sort_values())\n"
   ]
  },
  {
   "cell_type": "markdown",
   "id": "6428d5b6",
   "metadata": {},
   "source": [
    "#### 15. Save the Series to a text file using the to_csv() method."
   ]
  },
  {
   "cell_type": "code",
   "execution_count": 21,
   "id": "7d5faf4d",
   "metadata": {},
   "outputs": [],
   "source": [
    "data5 = [10,60,40, 20, 30,15, 40, 50,5, 15]\n",
    "series1 = pd.Series(data5)\n",
    "series1.to_csv('series.csv')"
   ]
  }
 ],
 "metadata": {
  "kernelspec": {
   "display_name": "Python 3 (ipykernel)",
   "language": "python",
   "name": "python3"
  },
  "language_info": {
   "codemirror_mode": {
    "name": "ipython",
    "version": 3
   },
   "file_extension": ".py",
   "mimetype": "text/x-python",
   "name": "python",
   "nbconvert_exporter": "python",
   "pygments_lexer": "ipython3",
   "version": "3.10.9"
  }
 },
 "nbformat": 4,
 "nbformat_minor": 5
}
