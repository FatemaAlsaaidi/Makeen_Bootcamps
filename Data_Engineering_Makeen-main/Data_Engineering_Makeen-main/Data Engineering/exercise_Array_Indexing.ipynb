{
 "cells": [
  {
   "cell_type": "markdown",
   "id": "8bbd3ed1",
   "metadata": {},
   "source": [
    "# Array Indexing"
   ]
  },
  {
   "cell_type": "code",
   "execution_count": 35,
   "id": "cc4c42c1",
   "metadata": {},
   "outputs": [],
   "source": [
    "import numpy as np"
   ]
  },
  {
   "cell_type": "markdown",
   "id": "da61439c",
   "metadata": {},
   "source": [
    "### 1. Create a 1D NumPy array with the integers from 0 to 9. Extract the 3rd element from the array"
   ]
  },
  {
   "cell_type": "code",
   "execution_count": 36,
   "id": "ae5062c9",
   "metadata": {},
   "outputs": [
    {
     "data": {
      "text/plain": [
       "array([0, 1, 2, 3, 4, 5, 6, 7, 8, 9])"
      ]
     },
     "execution_count": 36,
     "metadata": {},
     "output_type": "execute_result"
    }
   ],
   "source": [
    "a = np.array([0,1,2,3,4,5,6,7,8,9])\n",
    "a"
   ]
  },
  {
   "cell_type": "code",
   "execution_count": 37,
   "id": "6a7d580a",
   "metadata": {},
   "outputs": [
    {
     "data": {
      "text/plain": [
       "2"
      ]
     },
     "execution_count": 37,
     "metadata": {},
     "output_type": "execute_result"
    }
   ],
   "source": [
    "a[2]"
   ]
  },
  {
   "cell_type": "markdown",
   "id": "131ea943",
   "metadata": {},
   "source": [
    "### 2.Create a 2D NumPy array with shape (3, 3) and fill it with random numbers. Extract the element at row 2, column 1."
   ]
  },
  {
   "cell_type": "code",
   "execution_count": 38,
   "id": "8ecedd2f",
   "metadata": {},
   "outputs": [
    {
     "data": {
      "text/plain": [
       "array([[17,  5,  2],\n",
       "       [91, 21,  6],\n",
       "       [95, 46, 86]])"
      ]
     },
     "execution_count": 38,
     "metadata": {},
     "output_type": "execute_result"
    }
   ],
   "source": [
    "b= np.random.randint(100,size=(3,3), dtype='int')\n",
    "b"
   ]
  },
  {
   "cell_type": "code",
   "execution_count": 39,
   "id": "87fae53c",
   "metadata": {},
   "outputs": [
    {
     "data": {
      "text/plain": [
       "91"
      ]
     },
     "execution_count": 39,
     "metadata": {},
     "output_type": "execute_result"
    }
   ],
   "source": [
    "b[1][0]"
   ]
  },
  {
   "cell_type": "markdown",
   "id": "667e3222",
   "metadata": {},
   "source": [
    "### 3. Create a 2D NumPy array with shape (4, 4) and fill it with random numbers. Extract the subarray consisting of the first 2 rows and the last 2 columns."
   ]
  },
  {
   "cell_type": "code",
   "execution_count": 40,
   "id": "10b54f7d",
   "metadata": {},
   "outputs": [
    {
     "data": {
      "text/plain": [
       "array([[ 1,  2,  3,  4],\n",
       "       [ 5,  6,  7,  8],\n",
       "       [ 9, 10, 11, 12],\n",
       "       [13, 14, 15, 16]])"
      ]
     },
     "execution_count": 40,
     "metadata": {},
     "output_type": "execute_result"
    }
   ],
   "source": [
    "c = np.array([[1,2,3,4],[5,6,7,8],[9,10,11,12],[13,14,15,16]])\n",
    "c"
   ]
  },
  {
   "cell_type": "code",
   "execution_count": 41,
   "id": "ab47e96b",
   "metadata": {},
   "outputs": [
    {
     "data": {
      "text/plain": [
       "array([[3, 4],\n",
       "       [7, 8]])"
      ]
     },
     "execution_count": 41,
     "metadata": {},
     "output_type": "execute_result"
    }
   ],
   "source": [
    "c[:2,2:]"
   ]
  },
  {
   "cell_type": "markdown",
   "id": "ea37ece8",
   "metadata": {},
   "source": [
    "### 4. Create a 1D NumPy array with the integers from 0 to 9. Copy a slice of the array consisting of the first 3 elements."
   ]
  },
  {
   "cell_type": "code",
   "execution_count": 42,
   "id": "ae060771",
   "metadata": {},
   "outputs": [
    {
     "data": {
      "text/plain": [
       "array([0, 1, 2, 3, 4, 5, 6, 7, 8, 9])"
      ]
     },
     "execution_count": 42,
     "metadata": {},
     "output_type": "execute_result"
    }
   ],
   "source": [
    "d = np.array([0,1,2,3,4,5,6,7,8,9])\n",
    "d"
   ]
  },
  {
   "cell_type": "code",
   "execution_count": 43,
   "id": "36323143",
   "metadata": {},
   "outputs": [
    {
     "data": {
      "text/plain": [
       "array([0, 1, 2])"
      ]
     },
     "execution_count": 43,
     "metadata": {},
     "output_type": "execute_result"
    }
   ],
   "source": [
    "d[:3]"
   ]
  },
  {
   "cell_type": "markdown",
   "id": "560fbfec",
   "metadata": {},
   "source": [
    "### 5. Create a 2D NumPy array with shape (3, 3) and fill it with random numbers. Copy a slice of the array consisting of the first 2 rows and the first 2 columns."
   ]
  },
  {
   "cell_type": "code",
   "execution_count": 44,
   "id": "81106287",
   "metadata": {},
   "outputs": [
    {
     "data": {
      "text/plain": [
       "array([[96, 65, 95],\n",
       "       [73, 22, 62],\n",
       "       [38, 36, 84]])"
      ]
     },
     "execution_count": 44,
     "metadata": {},
     "output_type": "execute_result"
    }
   ],
   "source": [
    "e= np.random.randint(100,size=(3,3), dtype='int')\n",
    "e"
   ]
  },
  {
   "cell_type": "code",
   "execution_count": 45,
   "id": "031847aa",
   "metadata": {},
   "outputs": [
    {
     "data": {
      "text/plain": [
       "array([[65, 95],\n",
       "       [22, 62]])"
      ]
     },
     "execution_count": 45,
     "metadata": {},
     "output_type": "execute_result"
    }
   ],
   "source": [
    "e[:2,1:]"
   ]
  },
  {
   "cell_type": "markdown",
   "id": "091ee0bd",
   "metadata": {},
   "source": [
    "### 6.Create a 1D NumPy array with the integers from 0 to 9. Reshape the array into a 2D array with shape (3, 3)"
   ]
  },
  {
   "cell_type": "code",
   "execution_count": 53,
   "id": "d4fd410f",
   "metadata": {},
   "outputs": [
    {
     "data": {
      "text/plain": [
       "array([0, 1, 2, 3, 4, 5, 6, 7, 8])"
      ]
     },
     "execution_count": 53,
     "metadata": {},
     "output_type": "execute_result"
    }
   ],
   "source": [
    "f = np.array([0,1,2,3,4,5,6,7,8])\n",
    "f"
   ]
  },
  {
   "cell_type": "code",
   "execution_count": 54,
   "id": "2daa8f9f",
   "metadata": {},
   "outputs": [
    {
     "data": {
      "text/plain": [
       "array([[0, 1, 2],\n",
       "       [3, 4, 5],\n",
       "       [6, 7, 8]])"
      ]
     },
     "execution_count": 54,
     "metadata": {},
     "output_type": "execute_result"
    }
   ],
   "source": [
    "f.reshape(3, 3)"
   ]
  },
  {
   "cell_type": "markdown",
   "id": "71364f15",
   "metadata": {},
   "source": [
    "### 7.Create a 2D NumPy array with shape (4, 4) and fill it with random numbers. Reshape the array into a 1D array"
   ]
  },
  {
   "cell_type": "code",
   "execution_count": 59,
   "id": "aa4dc63e",
   "metadata": {},
   "outputs": [
    {
     "data": {
      "text/plain": [
       "array([[55, 23, 91, 52],\n",
       "       [65, 66, 50, 41],\n",
       "       [90, 12, 93, 45],\n",
       "       [ 3, 82,  7, 56]])"
      ]
     },
     "execution_count": 59,
     "metadata": {},
     "output_type": "execute_result"
    }
   ],
   "source": [
    "g= np.random.randint(100,size=(4,4), dtype='int')\n",
    "g"
   ]
  },
  {
   "cell_type": "code",
   "execution_count": 60,
   "id": "d88a7f26",
   "metadata": {},
   "outputs": [
    {
     "data": {
      "text/plain": [
       "array([55, 23, 91, 52, 65, 66, 50, 41, 90, 12, 93, 45,  3, 82,  7, 56])"
      ]
     },
     "execution_count": 60,
     "metadata": {},
     "output_type": "execute_result"
    }
   ],
   "source": [
    "g.flatten()"
   ]
  },
  {
   "cell_type": "markdown",
   "id": "ed103db6",
   "metadata": {},
   "source": [
    "### 8.Create two 1D NumPy arrays with the integers from 0 to 4. Concatenate the two arrays into a single 1D array"
   ]
  },
  {
   "cell_type": "code",
   "execution_count": null,
   "id": "afead068",
   "metadata": {},
   "outputs": [],
   "source": []
  }
 ],
 "metadata": {
  "kernelspec": {
   "display_name": "Python 3 (ipykernel)",
   "language": "python",
   "name": "python3"
  },
  "language_info": {
   "codemirror_mode": {
    "name": "ipython",
    "version": 3
   },
   "file_extension": ".py",
   "mimetype": "text/x-python",
   "name": "python",
   "nbconvert_exporter": "python",
   "pygments_lexer": "ipython3",
   "version": "3.9.13"
  }
 },
 "nbformat": 4,
 "nbformat_minor": 5
}
