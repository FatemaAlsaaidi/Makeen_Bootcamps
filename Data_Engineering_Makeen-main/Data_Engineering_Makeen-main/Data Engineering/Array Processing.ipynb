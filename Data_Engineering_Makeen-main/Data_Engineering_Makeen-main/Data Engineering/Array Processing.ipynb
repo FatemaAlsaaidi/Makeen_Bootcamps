{
 "cells": [
  {
   "cell_type": "code",
   "execution_count": 1,
   "id": "66f94173",
   "metadata": {},
   "outputs": [],
   "source": [
    "import numpy as np\n",
    "from numpy.random import randn"
   ]
  },
  {
   "cell_type": "code",
   "execution_count": 2,
   "id": "f69bc528",
   "metadata": {},
   "outputs": [
    {
     "data": {
      "text/plain": [
       "array([  1,   2, 300, 400])"
      ]
     },
     "execution_count": 2,
     "metadata": {},
     "output_type": "execute_result"
    }
   ],
   "source": [
    " #Now using numpy.where\n",
    "A = np.array([1,2,3,4])\n",
    "B= np.array([100,200,300,400])\n",
    "#Now a boolean array to create condition\n",
    "condition = np.array([True,True,False,False])\n",
    "answer2 = np.where(condition,A,B)\n",
    "#Show\n",
    "answer2"
   ]
  },
  {
   "cell_type": "code",
   "execution_count": 3,
   "id": "f7e2c2ea",
   "metadata": {},
   "outputs": [
    {
     "data": {
      "text/plain": [
       "array([[-1.67795679,  1.34238103, -1.70590751, -0.07144016,  0.38536956],\n",
       "       [ 0.6590612 , -0.18275909,  0.26318245,  0.40880408,  0.9642533 ],\n",
       "       [ 1.77848233, -1.36793698,  0.89524512, -0.64863072,  0.40959779],\n",
       "       [-0.16689757,  0.09252344,  0.63908066,  0.37404143, -0.38026435],\n",
       "       [ 0.60598675, -2.57586111, -0.75514811,  0.61855019, -0.64407467]])"
      ]
     },
     "execution_count": 3,
     "metadata": {},
     "output_type": "execute_result"
    }
   ],
   "source": [
    "#Can use np.where on 2d for manipulation\n",
    "arr = randn(5,5)\n",
    "#Show arr\n",
    "arr"
   ]
  },
  {
   "cell_type": "code",
   "execution_count": 4,
   "id": "58ae473f",
   "metadata": {},
   "outputs": [
    {
     "data": {
      "text/plain": [
       "array([[ 2.00138553,  1.48231694,  3.09363271,  5.83701193,  0.68052675],\n",
       "       [ 0.47210539,  0.97330637,  3.08909873,  1.65769188,  3.0321081 ],\n",
       "       [ 0.83310425,  4.41419637,  0.64200622,  1.57363347, -0.23607118],\n",
       "       [ 2.73105631,  3.16059251,  4.16022546,  2.17991117,  1.21361544],\n",
       "       [ 1.20785866,  2.9912655 ,  4.15340081,  2.33628507,  0.36368848]])"
      ]
     },
     "execution_count": 4,
     "metadata": {},
     "output_type": "execute_result"
    }
   ],
   "source": [
    "#Can use np.where on 2d for manipulation\n",
    "arr1 = 2+1.5*randn(5,5)\n",
    "#Show arr\n",
    "arr1"
   ]
  },
  {
   "cell_type": "code",
   "execution_count": null,
   "id": "f183bb12",
   "metadata": {},
   "outputs": [],
   "source": []
  }
 ],
 "metadata": {
  "kernelspec": {
   "display_name": "Python 3 (ipykernel)",
   "language": "python",
   "name": "python3"
  },
  "language_info": {
   "codemirror_mode": {
    "name": "ipython",
    "version": 3
   },
   "file_extension": ".py",
   "mimetype": "text/x-python",
   "name": "python",
   "nbconvert_exporter": "python",
   "pygments_lexer": "ipython3",
   "version": "3.9.13"
  }
 },
 "nbformat": 4,
 "nbformat_minor": 5
}
