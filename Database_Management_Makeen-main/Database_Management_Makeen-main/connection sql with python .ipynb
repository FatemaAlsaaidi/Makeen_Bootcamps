{
 "cells": [
  {
   "cell_type": "markdown",
   "id": "dd281684",
   "metadata": {},
   "source": [
    "### Write a Python code snippet to establish a connection with a Microsoft SQL Server database. Include the necessary steps and import statements. "
   ]
  },
  {
   "cell_type": "code",
   "execution_count": 2,
   "id": "97d22541",
   "metadata": {},
   "outputs": [],
   "source": [
    "import pyodbc \n",
    "\n",
    "conn = pyodbc.connect('Driver={SQL Server};'\n",
    "                      'Server=DESKTOP-J26O8DP\\SQLEXPRESS;'\n",
    "                      'Database=Makeen;'\n",
    "                      'Trusted_Connection=yes;')\n",
    "\n",
    "cursor = conn.cursor()"
   ]
  },
  {
   "cell_type": "markdown",
   "id": "5f251459",
   "metadata": {},
   "source": [
    "### Write a Python function that takes input parameters and inserts data into a specific table in the SQL Server database. Include error handling and parameterized queries in your code. "
   ]
  },
  {
   "cell_type": "code",
   "execution_count": 3,
   "id": "39e6128f",
   "metadata": {},
   "outputs": [
    {
     "name": "stdout",
     "output_type": "stream",
     "text": [
      "('ART', 'Arts', 'Dr. Abdullah')\n",
      "('COM', 'Economy', 'Prof. Fahim')\n",
      "('EDU', 'Education', 'Dr. Hamad')\n",
      "('SCI', 'Science', 'Prof. Salma')\n"
     ]
    }
   ],
   "source": [
    "cursor.execute('SELECT * FROM college')\n",
    "\n",
    "for i in cursor:\n",
    "    print(i)"
   ]
  },
  {
   "cell_type": "markdown",
   "id": "7c2a276d",
   "metadata": {},
   "source": [
    "### Implement a Python function that calculates the average value of a specific column in a table using data retrieved from the SQL Server database. Include error handling and appropriate data type conversion in your code. "
   ]
  },
  {
   "cell_type": "code",
   "execution_count": 4,
   "id": "2cfe0580",
   "metadata": {},
   "outputs": [
    {
     "name": "stdout",
     "output_type": "stream",
     "text": [
      "79.08333333333333\n"
     ]
    }
   ],
   "source": [
    "\n",
    "    cursor.execute('SELECT bk_totalCopies FROM book')\n",
    "    # Fetch the results\n",
    "    rows = cursor.fetchall()\n",
    "\n",
    "    # Convert the rows to a list of integers\n",
    "    integer_rows = []\n",
    "    for row in rows:\n",
    "        integer_rows.append(int(row[0]))\n",
    "\n",
    "    # Calculate the sum of the integers\n",
    "    sum_num = sum(integer_rows)\n",
    "\n",
    "    # Calculate the average\n",
    "    avg = sum_num / len(integer_rows)\n",
    "\n",
    "\n",
    "    # Return the average\n",
    "    print(avg)\n",
    "\n"
   ]
  },
  {
   "cell_type": "markdown",
   "id": "aafd465d",
   "metadata": {},
   "source": [
    "### Write a Python function that takes input parameters and inserts data into a specific table in the SQL Server database. Include error handling and parameterized queries in your code. "
   ]
  },
  {
   "cell_type": "code",
   "execution_count": 5,
   "id": "8c198453",
   "metadata": {},
   "outputs": [
    {
     "ename": "IntegrityError",
     "evalue": "('23000', \"[23000] [Microsoft][ODBC SQL Server Driver][SQL Server]Violation of PRIMARY KEY constraint 'book_pk_bkid'. Cannot insert duplicate key in object 'dbo.book'. The duplicate key value is (5001). (2627) (SQLExecDirectW); [23000] [Microsoft][ODBC SQL Server Driver][SQL Server]The statement has been terminated. (3621)\")",
     "output_type": "error",
     "traceback": [
      "\u001b[1;31m---------------------------------------------------------------------------\u001b[0m",
      "\u001b[1;31mIntegrityError\u001b[0m                            Traceback (most recent call last)",
      "Cell \u001b[1;32mIn[5], line 8\u001b[0m\n\u001b[0;32m      3\u001b[0m     quary\u001b[38;5;241m=\u001b[39m \u001b[38;5;124m'''\u001b[39m\u001b[38;5;124mINSERT INTO \u001b[39m\u001b[38;5;132;01m{}\u001b[39;00m\u001b[38;5;124m VALUES(\u001b[39m\u001b[38;5;132;01m{}\u001b[39;00m\u001b[38;5;124m,\u001b[39m\u001b[38;5;124m'\u001b[39m\u001b[38;5;132;01m{}\u001b[39;00m\u001b[38;5;124m'\u001b[39m\u001b[38;5;124m,\u001b[39m\u001b[38;5;132;01m{}\u001b[39;00m\u001b[38;5;124m,\u001b[39m\u001b[38;5;132;01m{}\u001b[39;00m\u001b[38;5;124m,\u001b[39m\u001b[38;5;132;01m{}\u001b[39;00m\u001b[38;5;124m,\u001b[39m\u001b[38;5;132;01m{}\u001b[39;00m\u001b[38;5;124m) \u001b[39m\u001b[38;5;124m'''\u001b[39m\u001b[38;5;241m.\u001b[39mformat(table_name,bk_id,bk_title,bk_edition,bk_ofPages,bk_totalCopies,bk_remCopies)\n\u001b[0;32m      4\u001b[0m     \u001b[38;5;28;01mreturn\u001b[39;00m quary\n\u001b[1;32m----> 8\u001b[0m \u001b[43mcursor\u001b[49m\u001b[38;5;241;43m.\u001b[39;49m\u001b[43mexecute\u001b[49m\u001b[43m(\u001b[49m\u001b[43mdata_entry\u001b[49m\u001b[43m(\u001b[49m\u001b[38;5;124;43m'\u001b[39;49m\u001b[38;5;124;43mbook\u001b[39;49m\u001b[38;5;124;43m'\u001b[39;49m\u001b[43m,\u001b[49m\u001b[38;5;241;43m5001\u001b[39;49m\u001b[43m,\u001b[49m\u001b[38;5;124;43m'\u001b[39;49m\u001b[38;5;124;43mPython\u001b[39;49m\u001b[38;5;124;43m'\u001b[39;49m\u001b[43m,\u001b[49m\u001b[43m \u001b[49m\u001b[38;5;241;43m5\u001b[39;49m\u001b[43m,\u001b[49m\u001b[38;5;241;43m120\u001b[39;49m\u001b[43m,\u001b[49m\u001b[38;5;241;43m10\u001b[39;49m\u001b[43m,\u001b[49m\u001b[38;5;241;43m100\u001b[39;49m\u001b[43m)\u001b[49m\u001b[43m)\u001b[49m\n",
      "\u001b[1;31mIntegrityError\u001b[0m: ('23000', \"[23000] [Microsoft][ODBC SQL Server Driver][SQL Server]Violation of PRIMARY KEY constraint 'book_pk_bkid'. Cannot insert duplicate key in object 'dbo.book'. The duplicate key value is (5001). (2627) (SQLExecDirectW); [23000] [Microsoft][ODBC SQL Server Driver][SQL Server]The statement has been terminated. (3621)\")"
     ]
    }
   ],
   "source": [
    "\n",
    "    \n",
    "\n",
    "\n",
    "def data_entry(table_name,bk_id,bk_title,bk_edition,bk_ofPages,bk_totalCopies,bk_remCopies):\n",
    "    \n",
    "    quary= '''INSERT INTO {} VALUES({},'{}',{},{},{},{}) '''.format(table_name,bk_id,bk_title,bk_edition,bk_ofPages,bk_totalCopies,bk_remCopies)\n",
    "    return quary\n",
    "    \n",
    "\n",
    "    \n",
    "cursor.execute(data_entry('book',5001,'Python', 5,120,10,100))\n",
    "\n",
    "\n",
    "\n"
   ]
  },
  {
   "cell_type": "code",
   "execution_count": 6,
   "id": "e2219004",
   "metadata": {},
   "outputs": [
    {
     "name": "stdout",
     "output_type": "stream",
     "text": [
      "(Decimal('1001'), 'Database1', Decimal('2'), Decimal('450'), Decimal('150'), Decimal('65'))\n",
      "(Decimal('1002'), 'Database2', Decimal('3'), Decimal('300'), Decimal('100'), Decimal('100'))\n",
      "(Decimal('1003'), 'Java Prog.', Decimal('3'), Decimal('555'), Decimal('50'), Decimal('50'))\n",
      "(Decimal('2001'), 'Intro. to Finanace', Decimal('1'), Decimal('300'), Decimal('75'), Decimal('40'))\n",
      "(Decimal('3001'), 'Basic Op Mgmt', Decimal('1'), Decimal('320'), Decimal('100'), Decimal('77'))\n",
      "(Decimal('3002'), 'Chemistry Book', Decimal('2'), Decimal('500'), Decimal('100'), Decimal('80'))\n",
      "(Decimal('3003'), 'Management I', Decimal('2'), Decimal('560'), Decimal('44'), Decimal('34'))\n",
      "(Decimal('4001'), 'Biology', Decimal('1'), Decimal('345'), Decimal('100'), Decimal('100'))\n",
      "(Decimal('4002'), 'Math1', Decimal('2'), Decimal('250'), Decimal('90'), Decimal('66'))\n",
      "(Decimal('4003'), 'Python', Decimal('1'), Decimal('400'), Decimal('50'), Decimal('100'))\n",
      "(Decimal('5000'), 'IT', Decimal('3'), Decimal('150'), Decimal('80'), Decimal('88'))\n",
      "(Decimal('5001'), 'Python', Decimal('5'), Decimal('120'), Decimal('10'), Decimal('100'))\n"
     ]
    }
   ],
   "source": [
    "cursor.execute('SELECT * FROM book')\n",
    "\n",
    "for i in cursor:\n",
    "    print(i)"
   ]
  },
  {
   "cell_type": "markdown",
   "id": "2ca9b73a",
   "metadata": {},
   "source": [
    "### Explain the process of creating a new database in Microsoft SQL Server using Python. Provide a code example that demonstrates the creation of a database with specific parameters. \n",
    "    \n",
    "    "
   ]
  },
  {
   "cell_type": "code",
   "execution_count": 7,
   "id": "c85d2f59",
   "metadata": {},
   "outputs": [
    {
     "ename": "ProgrammingError",
     "evalue": "('42000', \"[42000] [Microsoft][ODBC SQL Server Driver][SQL Server]Database 'IT' already exists. Choose a different database name. (1801) (SQLExecDirectW)\")",
     "output_type": "error",
     "traceback": [
      "\u001b[1;31m---------------------------------------------------------------------------\u001b[0m",
      "\u001b[1;31mProgrammingError\u001b[0m                          Traceback (most recent call last)",
      "Cell \u001b[1;32mIn[7], line 4\u001b[0m\n\u001b[0;32m      1\u001b[0m conn\u001b[38;5;241m.\u001b[39mautocommit \u001b[38;5;241m=\u001b[39m \u001b[38;5;28;01mTrue\u001b[39;00m  \n\u001b[0;32m      3\u001b[0m cursor \u001b[38;5;241m=\u001b[39m conn\u001b[38;5;241m.\u001b[39mcursor()\n\u001b[1;32m----> 4\u001b[0m \u001b[43mcursor\u001b[49m\u001b[38;5;241;43m.\u001b[39;49m\u001b[43mexecute\u001b[49m\u001b[43m(\u001b[49m\u001b[38;5;124;43m\"\u001b[39;49m\u001b[38;5;124;43mCREATE DATABASE IT\u001b[39;49m\u001b[38;5;124;43m\"\u001b[39;49m\u001b[43m)\u001b[49m\n",
      "\u001b[1;31mProgrammingError\u001b[0m: ('42000', \"[42000] [Microsoft][ODBC SQL Server Driver][SQL Server]Database 'IT' already exists. Choose a different database name. (1801) (SQLExecDirectW)\")"
     ]
    }
   ],
   "source": [
    "conn.autocommit = True  \n",
    "\n",
    "cursor = conn.cursor()\n",
    "cursor.execute(\"CREATE DATABASE IT\")"
   ]
  },
  {
   "cell_type": "markdown",
   "id": "6309f8a4",
   "metadata": {},
   "source": [
    "### Write a Python script that connects to the SQL Server database, selects a subset of records based on specific criteria, and performs statistical calculations such as calculating the mean and standard deviation of a numeric column. Print the calculated statistics as output. "
   ]
  },
  {
   "cell_type": "code",
   "execution_count": 8,
   "id": "91fc4fe0",
   "metadata": {},
   "outputs": [
    {
     "name": "stdout",
     "output_type": "stream",
     "text": [
      "The mean of totalCopies of book table is  79.08333333333333\n",
      "The standard deviation  of totalCopies of book table is 36.445372154982195\n"
     ]
    }
   ],
   "source": [
    "    import statistics\n",
    "\n",
    "    cursor.execute('SELECT bk_totalCopies FROM book')\n",
    "    # Fetch the results\n",
    "    rows = cursor.fetchall()\n",
    "\n",
    "    # Convert the rows to a list of integers\n",
    "    integer_rows = []\n",
    "    for row in rows:\n",
    "        integer_rows.append(int(row[0]))\n",
    "\n",
    "    # Calculate the sum of the integers\n",
    "    sum_num = sum(integer_rows)\n",
    "\n",
    "    # Calculate the mean \n",
    "    mean = statistics.mean(integer_rows)\n",
    "    print(\"The mean of totalCopies of book table is \", mean)\n",
    "    \n",
    "    \n",
    "    \n",
    "    #standard devision\n",
    "    std_=statistics.stdev(integer_rows)\n",
    "    print(\"The standard deviation  of totalCopies of book table is\",std_)\n",
    "\n"
   ]
  },
  {
   "cell_type": "code",
   "execution_count": null,
   "id": "2fb61ad1",
   "metadata": {},
   "outputs": [],
   "source": []
  }
 ],
 "metadata": {
  "kernelspec": {
   "display_name": "Python 3 (ipykernel)",
   "language": "python",
   "name": "python3"
  },
  "language_info": {
   "codemirror_mode": {
    "name": "ipython",
    "version": 3
   },
   "file_extension": ".py",
   "mimetype": "text/x-python",
   "name": "python",
   "nbconvert_exporter": "python",
   "pygments_lexer": "ipython3",
   "version": "3.10.9"
  }
 },
 "nbformat": 4,
 "nbformat_minor": 5
}
